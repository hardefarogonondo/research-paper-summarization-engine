{
 "cells": [
  {
   "attachments": {},
   "cell_type": "markdown",
   "id": "20203c0f",
   "metadata": {},
   "source": [
    "# I. Project Team Members"
   ]
  },
  {
   "attachments": {},
   "cell_type": "markdown",
   "id": "0aa3d7f4",
   "metadata": {},
   "source": [
    "| Prepared by | Email | Prepared for |\n",
    "| :-: | :-: | :-: |\n",
    "| **Hardefa Rogonondo** | hardefarogonondo@gmail.com | **Research Paper Summarization Engine** |"
   ]
  },
  {
   "attachments": {},
   "cell_type": "markdown",
   "id": "b05cd469",
   "metadata": {},
   "source": [
    "# II. Notebook Target Definition"
   ]
  },
  {
   "attachments": {},
   "cell_type": "markdown",
   "id": "47bae1d2",
   "metadata": {},
   "source": [
    "This Jupyter notebook is the initial step in creating Research Paper Summarization Engine Project, focusing on data preparation. It imports the SciTLDR dataset from the Hugging Face datasets repository, conducts an initial exploration to understand its structure, including dataset shape, data types, and the contents of each data dictionary. Recognizing that the dataset is pre-divided into training, testing, and validation subsets, the notebook concludes by exporting these segments into .pkl format, paving the way for future phases of the project."
   ]
  },
  {
   "attachments": {},
   "cell_type": "markdown",
   "id": "3213f42d",
   "metadata": {},
   "source": [
    "# III. Notebook Setup"
   ]
  },
  {
   "attachments": {},
   "cell_type": "markdown",
   "id": "bb5c3810",
   "metadata": {},
   "source": [
    "## III.A. Import Libraries"
   ]
  },
  {
   "cell_type": "code",
   "execution_count": 1,
   "id": "ac84c896",
   "metadata": {},
   "outputs": [],
   "source": [
    "from datasets import load_dataset\n",
    "import pandas as pd\n",
    "import pickle\n",
    "\n",
    "pd.set_option('display.max_columns', None)\n",
    "pd.set_option('display.max_rows', None)"
   ]
  },
  {
   "attachments": {},
   "cell_type": "markdown",
   "id": "7291e85b",
   "metadata": {},
   "source": [
    "## III.B. Import Data"
   ]
  },
  {
   "cell_type": "code",
   "execution_count": 2,
   "id": "b41e5fa3-8c57-4a27-9d08-097a44a56f75",
   "metadata": {},
   "outputs": [],
   "source": [
    "dataset = load_dataset('allenai/scitldr', trust_remote_code=True)\n",
    "train_df = pd.DataFrame(dataset[\"train\"])\n",
    "test_df = pd.DataFrame(dataset[\"test\"])\n",
    "validation_df = pd.DataFrame(dataset[\"validation\"])"
   ]
  },
  {
   "cell_type": "code",
   "execution_count": 3,
   "id": "224ccabf-a20e-455d-b7bd-cbe8e7cba0fd",
   "metadata": {},
   "outputs": [
    {
     "data": {
      "text/html": [
       "<div>\n",
       "<style scoped>\n",
       "    .dataframe tbody tr th:only-of-type {\n",
       "        vertical-align: middle;\n",
       "    }\n",
       "\n",
       "    .dataframe tbody tr th {\n",
       "        vertical-align: top;\n",
       "    }\n",
       "\n",
       "    .dataframe thead th {\n",
       "        text-align: right;\n",
       "    }\n",
       "</style>\n",
       "<table border=\"1\" class=\"dataframe\">\n",
       "  <thead>\n",
       "    <tr style=\"text-align: right;\">\n",
       "      <th></th>\n",
       "      <th>source</th>\n",
       "      <th>source_labels</th>\n",
       "      <th>rouge_scores</th>\n",
       "      <th>paper_id</th>\n",
       "      <th>target</th>\n",
       "    </tr>\n",
       "  </thead>\n",
       "  <tbody>\n",
       "    <tr>\n",
       "      <th>0</th>\n",
       "      <td>[Due to the success of deep learning to solvin...</td>\n",
       "      <td>[0, 0, 0, 0, 1, 0]</td>\n",
       "      <td>[0.30188679695129395, 0.3720930218696594, 0.60...</td>\n",
       "      <td>SysEexbRb</td>\n",
       "      <td>[We provide necessary and sufficient analytica...</td>\n",
       "    </tr>\n",
       "    <tr>\n",
       "      <th>1</th>\n",
       "      <td>[The backpropagation (BP) algorithm is often t...</td>\n",
       "      <td>[0, 0, 0, 1, 0, 0, 0, 0]</td>\n",
       "      <td>[0.0, 0.0, 0.1304347813129425, 0.1428571343421...</td>\n",
       "      <td>SygvZ209F7</td>\n",
       "      <td>[Biologically plausible learning algorithms, p...</td>\n",
       "    </tr>\n",
       "    <tr>\n",
       "      <th>2</th>\n",
       "      <td>[We introduce the 2-simplicial Transformer, an...</td>\n",
       "      <td>[0, 1]</td>\n",
       "      <td>[0.3333333432674408, 0.8888888955116272]</td>\n",
       "      <td>rkecJ6VFvr</td>\n",
       "      <td>[We introduce the 2-simplicial Transformer and...</td>\n",
       "    </tr>\n",
       "    <tr>\n",
       "      <th>3</th>\n",
       "      <td>[We present Tensor-Train RNN (TT-RNN), a novel...</td>\n",
       "      <td>[0, 0, 0, 1, 0, 0]</td>\n",
       "      <td>[0.06666666269302368, 0.06451612710952759, 0.0...</td>\n",
       "      <td>HJJ0w--0W</td>\n",
       "      <td>[Accurate forecasting over very long time hori...</td>\n",
       "    </tr>\n",
       "    <tr>\n",
       "      <th>4</th>\n",
       "      <td>[Recent efforts on combining deep models with ...</td>\n",
       "      <td>[0, 1, 0, 0, 0, 0, 0]</td>\n",
       "      <td>[0.277777761220932, 0.5714285373687744, 0.0952...</td>\n",
       "      <td>HyH9lbZAW</td>\n",
       "      <td>[We propose a variational message-passing algo...</td>\n",
       "    </tr>\n",
       "  </tbody>\n",
       "</table>\n",
       "</div>"
      ],
      "text/plain": [
       "                                              source  \\\n",
       "0  [Due to the success of deep learning to solvin...   \n",
       "1  [The backpropagation (BP) algorithm is often t...   \n",
       "2  [We introduce the 2-simplicial Transformer, an...   \n",
       "3  [We present Tensor-Train RNN (TT-RNN), a novel...   \n",
       "4  [Recent efforts on combining deep models with ...   \n",
       "\n",
       "              source_labels  \\\n",
       "0        [0, 0, 0, 0, 1, 0]   \n",
       "1  [0, 0, 0, 1, 0, 0, 0, 0]   \n",
       "2                    [0, 1]   \n",
       "3        [0, 0, 0, 1, 0, 0]   \n",
       "4     [0, 1, 0, 0, 0, 0, 0]   \n",
       "\n",
       "                                        rouge_scores    paper_id  \\\n",
       "0  [0.30188679695129395, 0.3720930218696594, 0.60...   SysEexbRb   \n",
       "1  [0.0, 0.0, 0.1304347813129425, 0.1428571343421...  SygvZ209F7   \n",
       "2           [0.3333333432674408, 0.8888888955116272]  rkecJ6VFvr   \n",
       "3  [0.06666666269302368, 0.06451612710952759, 0.0...   HJJ0w--0W   \n",
       "4  [0.277777761220932, 0.5714285373687744, 0.0952...   HyH9lbZAW   \n",
       "\n",
       "                                              target  \n",
       "0  [We provide necessary and sufficient analytica...  \n",
       "1  [Biologically plausible learning algorithms, p...  \n",
       "2  [We introduce the 2-simplicial Transformer and...  \n",
       "3  [Accurate forecasting over very long time hori...  \n",
       "4  [We propose a variational message-passing algo...  "
      ]
     },
     "execution_count": 3,
     "metadata": {},
     "output_type": "execute_result"
    }
   ],
   "source": [
    "train_df.head()"
   ]
  },
  {
   "cell_type": "code",
   "execution_count": 4,
   "id": "bc4fc32f-77bd-4a70-bf19-7c5a43168f16",
   "metadata": {},
   "outputs": [
    {
     "data": {
      "text/html": [
       "<div>\n",
       "<style scoped>\n",
       "    .dataframe tbody tr th:only-of-type {\n",
       "        vertical-align: middle;\n",
       "    }\n",
       "\n",
       "    .dataframe tbody tr th {\n",
       "        vertical-align: top;\n",
       "    }\n",
       "\n",
       "    .dataframe thead th {\n",
       "        text-align: right;\n",
       "    }\n",
       "</style>\n",
       "<table border=\"1\" class=\"dataframe\">\n",
       "  <thead>\n",
       "    <tr style=\"text-align: right;\">\n",
       "      <th></th>\n",
       "      <th>source</th>\n",
       "      <th>source_labels</th>\n",
       "      <th>rouge_scores</th>\n",
       "      <th>paper_id</th>\n",
       "      <th>target</th>\n",
       "    </tr>\n",
       "  </thead>\n",
       "  <tbody>\n",
       "    <tr>\n",
       "      <th>0</th>\n",
       "      <td>[Incremental class learning involves sequentia...</td>\n",
       "      <td>[0, 0, 0, 0, 1, 0, 0, 0, 0]</td>\n",
       "      <td>[0.2857142686843872, 0.1818181723356247, 0.227...</td>\n",
       "      <td>SJ1Xmf-Rb</td>\n",
       "      <td>[FearNet is a memory efficient neural-network,...</td>\n",
       "    </tr>\n",
       "    <tr>\n",
       "      <th>1</th>\n",
       "      <td>[Multi-view learning can provide self-supervis...</td>\n",
       "      <td>[1, 0, 0, 0, 0, 0]</td>\n",
       "      <td>[0.20000000298023224, 0.0, 0.15789473056793213...</td>\n",
       "      <td>S1xzyhR9Y7</td>\n",
       "      <td>[Multi-view learning improves unsupervised sen...</td>\n",
       "    </tr>\n",
       "    <tr>\n",
       "      <th>2</th>\n",
       "      <td>[We show how discrete objects can be learnt in...</td>\n",
       "      <td>[1, 0, 0, 0, 0]</td>\n",
       "      <td>[0.978723406791687, 0.3333333432674408, 0.4150...</td>\n",
       "      <td>HJDUjKeA-</td>\n",
       "      <td>[We show how discrete objects can be learnt in...</td>\n",
       "    </tr>\n",
       "    <tr>\n",
       "      <th>3</th>\n",
       "      <td>[Most recent gains in visual recognition have ...</td>\n",
       "      <td>[0, 0, 1, 0, 0, 0]</td>\n",
       "      <td>[0.11764705181121826, 0.1463414579629898, 0.19...</td>\n",
       "      <td>BJgLg3R9KQ</td>\n",
       "      <td>[A large-scale dataset for training attention ...</td>\n",
       "    </tr>\n",
       "    <tr>\n",
       "      <th>4</th>\n",
       "      <td>[In recent years, deep neural networks have de...</td>\n",
       "      <td>[0, 0, 1, 0, 0, 0, 0, 0]</td>\n",
       "      <td>[0.0, 0.05882352590560913, 0.2702702581882477,...</td>\n",
       "      <td>BklpOo09tQ</td>\n",
       "      <td>[We proposed a time-efficient defense method a...</td>\n",
       "    </tr>\n",
       "  </tbody>\n",
       "</table>\n",
       "</div>"
      ],
      "text/plain": [
       "                                              source  \\\n",
       "0  [Incremental class learning involves sequentia...   \n",
       "1  [Multi-view learning can provide self-supervis...   \n",
       "2  [We show how discrete objects can be learnt in...   \n",
       "3  [Most recent gains in visual recognition have ...   \n",
       "4  [In recent years, deep neural networks have de...   \n",
       "\n",
       "                 source_labels  \\\n",
       "0  [0, 0, 0, 0, 1, 0, 0, 0, 0]   \n",
       "1           [1, 0, 0, 0, 0, 0]   \n",
       "2              [1, 0, 0, 0, 0]   \n",
       "3           [0, 0, 1, 0, 0, 0]   \n",
       "4     [0, 0, 1, 0, 0, 0, 0, 0]   \n",
       "\n",
       "                                        rouge_scores    paper_id  \\\n",
       "0  [0.2857142686843872, 0.1818181723356247, 0.227...   SJ1Xmf-Rb   \n",
       "1  [0.20000000298023224, 0.0, 0.15789473056793213...  S1xzyhR9Y7   \n",
       "2  [0.978723406791687, 0.3333333432674408, 0.4150...   HJDUjKeA-   \n",
       "3  [0.11764705181121826, 0.1463414579629898, 0.19...  BJgLg3R9KQ   \n",
       "4  [0.0, 0.05882352590560913, 0.2702702581882477,...  BklpOo09tQ   \n",
       "\n",
       "                                              target  \n",
       "0  [FearNet is a memory efficient neural-network,...  \n",
       "1  [Multi-view learning improves unsupervised sen...  \n",
       "2  [We show how discrete objects can be learnt in...  \n",
       "3  [A large-scale dataset for training attention ...  \n",
       "4  [We proposed a time-efficient defense method a...  "
      ]
     },
     "execution_count": 4,
     "metadata": {},
     "output_type": "execute_result"
    }
   ],
   "source": [
    "test_df.head()"
   ]
  },
  {
   "cell_type": "code",
   "execution_count": 5,
   "id": "eae906d9-a838-4083-af72-ff3444c73caf",
   "metadata": {},
   "outputs": [
    {
     "data": {
      "text/html": [
       "<div>\n",
       "<style scoped>\n",
       "    .dataframe tbody tr th:only-of-type {\n",
       "        vertical-align: middle;\n",
       "    }\n",
       "\n",
       "    .dataframe tbody tr th {\n",
       "        vertical-align: top;\n",
       "    }\n",
       "\n",
       "    .dataframe thead th {\n",
       "        text-align: right;\n",
       "    }\n",
       "</style>\n",
       "<table border=\"1\" class=\"dataframe\">\n",
       "  <thead>\n",
       "    <tr style=\"text-align: right;\">\n",
       "      <th></th>\n",
       "      <th>source</th>\n",
       "      <th>source_labels</th>\n",
       "      <th>rouge_scores</th>\n",
       "      <th>paper_id</th>\n",
       "      <th>target</th>\n",
       "    </tr>\n",
       "  </thead>\n",
       "  <tbody>\n",
       "    <tr>\n",
       "      <th>0</th>\n",
       "      <td>[Mixed precision training (MPT) is becoming a ...</td>\n",
       "      <td>[0, 0, 0, 1, 0, 0]</td>\n",
       "      <td>[0.23999999463558197, 0.260869562625885, 0.199...</td>\n",
       "      <td>rJlnfaNYvB</td>\n",
       "      <td>[We devise adaptive loss scaling to improve mi...</td>\n",
       "    </tr>\n",
       "    <tr>\n",
       "      <th>1</th>\n",
       "      <td>[Many real-world problems, e.g. object detecti...</td>\n",
       "      <td>[0, 0, 1, 0, 0]</td>\n",
       "      <td>[0.05405404791235924, 0.2926829159259796, 0.97...</td>\n",
       "      <td>rJVoEiCqKQ</td>\n",
       "      <td>[We present a novel approach for learning to p...</td>\n",
       "    </tr>\n",
       "    <tr>\n",
       "      <th>2</th>\n",
       "      <td>[Foveation is an important part of human visio...</td>\n",
       "      <td>[0, 0, 1, 0, 0]</td>\n",
       "      <td>[0.11764705181121826, 0.11764705181121826, 0.3...</td>\n",
       "      <td>rkldVXKU8H</td>\n",
       "      <td>[We compare object recognition performance on ...</td>\n",
       "    </tr>\n",
       "    <tr>\n",
       "      <th>3</th>\n",
       "      <td>[We explore the concept of co-design in the co...</td>\n",
       "      <td>[0, 1, 0, 0, 0, 0]</td>\n",
       "      <td>[0.1249999925494194, 0.4888888895511627, 0.204...</td>\n",
       "      <td>BJfIVjAcKm</td>\n",
       "      <td>[We develop methods to train deep neural model...</td>\n",
       "    </tr>\n",
       "    <tr>\n",
       "      <th>4</th>\n",
       "      <td>[Batch Normalization (BatchNorm) has shown to ...</td>\n",
       "      <td>[0, 0, 1, 0, 0, 0]</td>\n",
       "      <td>[0.19999998807907104, 0.23999999463558197, 0.4...</td>\n",
       "      <td>BJlEEaEFDS</td>\n",
       "      <td>[Investigation of how BatchNorm causes adversa...</td>\n",
       "    </tr>\n",
       "  </tbody>\n",
       "</table>\n",
       "</div>"
      ],
      "text/plain": [
       "                                              source       source_labels  \\\n",
       "0  [Mixed precision training (MPT) is becoming a ...  [0, 0, 0, 1, 0, 0]   \n",
       "1  [Many real-world problems, e.g. object detecti...     [0, 0, 1, 0, 0]   \n",
       "2  [Foveation is an important part of human visio...     [0, 0, 1, 0, 0]   \n",
       "3  [We explore the concept of co-design in the co...  [0, 1, 0, 0, 0, 0]   \n",
       "4  [Batch Normalization (BatchNorm) has shown to ...  [0, 0, 1, 0, 0, 0]   \n",
       "\n",
       "                                        rouge_scores    paper_id  \\\n",
       "0  [0.23999999463558197, 0.260869562625885, 0.199...  rJlnfaNYvB   \n",
       "1  [0.05405404791235924, 0.2926829159259796, 0.97...  rJVoEiCqKQ   \n",
       "2  [0.11764705181121826, 0.11764705181121826, 0.3...  rkldVXKU8H   \n",
       "3  [0.1249999925494194, 0.4888888895511627, 0.204...  BJfIVjAcKm   \n",
       "4  [0.19999998807907104, 0.23999999463558197, 0.4...  BJlEEaEFDS   \n",
       "\n",
       "                                              target  \n",
       "0  [We devise adaptive loss scaling to improve mi...  \n",
       "1  [We present a novel approach for learning to p...  \n",
       "2  [We compare object recognition performance on ...  \n",
       "3  [We develop methods to train deep neural model...  \n",
       "4  [Investigation of how BatchNorm causes adversa...  "
      ]
     },
     "execution_count": 5,
     "metadata": {},
     "output_type": "execute_result"
    }
   ],
   "source": [
    "validation_df.head()"
   ]
  },
  {
   "attachments": {},
   "cell_type": "markdown",
   "id": "f59e32c9",
   "metadata": {},
   "source": [
    "# IV. Data Preparation"
   ]
  },
  {
   "attachments": {},
   "cell_type": "markdown",
   "id": "db0a5756",
   "metadata": {},
   "source": [
    "## IV.A. Data Shape Inspection"
   ]
  },
  {
   "cell_type": "code",
   "execution_count": 6,
   "id": "aad7798b",
   "metadata": {},
   "outputs": [
    {
     "data": {
      "text/plain": [
       "((1992, 5), (618, 5), (619, 5))"
      ]
     },
     "execution_count": 6,
     "metadata": {},
     "output_type": "execute_result"
    }
   ],
   "source": [
    "train_df.shape, test_df.shape, validation_df.shape"
   ]
  },
  {
   "attachments": {},
   "cell_type": "markdown",
   "id": "3389b1bf",
   "metadata": {},
   "source": [
    "## IV.B. Data Information Inspection"
   ]
  },
  {
   "cell_type": "code",
   "execution_count": 7,
   "id": "c6d7319a",
   "metadata": {},
   "outputs": [
    {
     "name": "stdout",
     "output_type": "stream",
     "text": [
      "<class 'pandas.core.frame.DataFrame'>\n",
      "RangeIndex: 1992 entries, 0 to 1991\n",
      "Data columns (total 5 columns):\n",
      " #   Column         Non-Null Count  Dtype \n",
      "---  ------         --------------  ----- \n",
      " 0   source         1992 non-null   object\n",
      " 1   source_labels  1992 non-null   object\n",
      " 2   rouge_scores   1992 non-null   object\n",
      " 3   paper_id       1992 non-null   object\n",
      " 4   target         1992 non-null   object\n",
      "dtypes: object(5)\n",
      "memory usage: 77.9+ KB\n"
     ]
    }
   ],
   "source": [
    "train_df.info()"
   ]
  },
  {
   "cell_type": "code",
   "execution_count": 8,
   "id": "a870750a-3b6b-40f8-8426-657a385ce504",
   "metadata": {},
   "outputs": [
    {
     "name": "stdout",
     "output_type": "stream",
     "text": [
      "<class 'pandas.core.frame.DataFrame'>\n",
      "RangeIndex: 618 entries, 0 to 617\n",
      "Data columns (total 5 columns):\n",
      " #   Column         Non-Null Count  Dtype \n",
      "---  ------         --------------  ----- \n",
      " 0   source         618 non-null    object\n",
      " 1   source_labels  618 non-null    object\n",
      " 2   rouge_scores   618 non-null    object\n",
      " 3   paper_id       618 non-null    object\n",
      " 4   target         618 non-null    object\n",
      "dtypes: object(5)\n",
      "memory usage: 24.3+ KB\n"
     ]
    }
   ],
   "source": [
    "test_df.info()"
   ]
  },
  {
   "cell_type": "code",
   "execution_count": 9,
   "id": "6950c6e7-125b-4bd7-9e39-7fe3d2dda874",
   "metadata": {},
   "outputs": [
    {
     "name": "stdout",
     "output_type": "stream",
     "text": [
      "<class 'pandas.core.frame.DataFrame'>\n",
      "RangeIndex: 619 entries, 0 to 618\n",
      "Data columns (total 5 columns):\n",
      " #   Column         Non-Null Count  Dtype \n",
      "---  ------         --------------  ----- \n",
      " 0   source         619 non-null    object\n",
      " 1   source_labels  619 non-null    object\n",
      " 2   rouge_scores   619 non-null    object\n",
      " 3   paper_id       619 non-null    object\n",
      " 4   target         619 non-null    object\n",
      "dtypes: object(5)\n",
      "memory usage: 24.3+ KB\n"
     ]
    }
   ],
   "source": [
    "validation_df.info()"
   ]
  },
  {
   "attachments": {},
   "cell_type": "markdown",
   "id": "e9ce06ea",
   "metadata": {},
   "source": [
    "## IV.C. Data Definition"
   ]
  },
  {
   "attachments": {},
   "cell_type": "markdown",
   "id": "50d58989",
   "metadata": {},
   "source": [
    "| Variables | Columns Definition |\n",
    "| :-: | :-: |\n",
    "| source | The Abstract, Introduction and Conclusion (AIC) or Full text of the paper, with one sentence per line. |\n",
    "| source_labels | Binary 0 or 1, 1 denotes the oracle sentence. |\n",
    "| rouge_scores | Precomputed ROUGE baseline scores for each sentence. |\n",
    "| paper_id | Arxiv Paper ID. |\n",
    "| target | Multiple summaries for each sentence, one sentence per line. |"
   ]
  },
  {
   "attachments": {},
   "cell_type": "markdown",
   "id": "c5c97bd7",
   "metadata": {},
   "source": [
    "## IV.D. Export Data"
   ]
  },
  {
   "cell_type": "code",
   "execution_count": 10,
   "id": "42f61b26",
   "metadata": {},
   "outputs": [],
   "source": [
    "train_df.to_pickle('../../data/processed/train_df.pkl')\n",
    "test_df.to_pickle('../../data/processed/test_df.pkl')\n",
    "validation_df.to_pickle('../../data/processed/validation_df.pkl')"
   ]
  }
 ],
 "metadata": {
  "kernelspec": {
   "display_name": "Python 3 (ipykernel)",
   "language": "python",
   "name": "python3"
  },
  "language_info": {
   "codemirror_mode": {
    "name": "ipython",
    "version": 3
   },
   "file_extension": ".py",
   "mimetype": "text/x-python",
   "name": "python",
   "nbconvert_exporter": "python",
   "pygments_lexer": "ipython3",
   "version": "3.11.8"
  }
 },
 "nbformat": 4,
 "nbformat_minor": 5
}
